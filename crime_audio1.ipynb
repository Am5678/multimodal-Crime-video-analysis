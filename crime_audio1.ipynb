{
  "nbformat": 4,
  "nbformat_minor": 0,
  "metadata": {
    "colab": {
      "provenance": [],
      "authorship_tag": "ABX9TyOJJu87RL9pONOnLPJ0srry",
      "include_colab_link": true
    },
    "kernelspec": {
      "name": "python3",
      "display_name": "Python 3"
    },
    "language_info": {
      "name": "python"
    }
  },
  "cells": [
    {
      "cell_type": "markdown",
      "metadata": {
        "id": "view-in-github",
        "colab_type": "text"
      },
      "source": [
        "<a href=\"https://colab.research.google.com/github/Am5678/multimodal-Crime-video-analysis/blob/main/crime_audio1.ipynb\" target=\"_parent\"><img src=\"https://colab.research.google.com/assets/colab-badge.svg\" alt=\"Open In Colab\"/></a>"
      ]
    },
    {
      "cell_type": "code",
      "execution_count": 3,
      "metadata": {
        "id": "cyAhUEa2RidB"
      },
      "outputs": [],
      "source": [
        "import pandas as pd\n",
        "import numpy as np\n",
        "import matplotlib.pyplot as plt\n",
        "import seaborn as sns\n",
        "import librosa\n",
        "import IPython.display as ipd\n",
        "import librosa.display\n",
        "import os\n",
        "from scipy.io import wavfile\n",
        "import mutagen\n",
        "import mutagen.mp3\n",
        "from google.colab import files, drive\n",
        "from tqdm import tqdm\n",
        "import shutil\n",
        "import random\n",
        "from pydub import AudioSegment\n",
        "\n",
        "%matplotlib inline"
      ]
    },
    {
      "cell_type": "code",
      "source": [
        "!pip install mutagen\n",
        "!pip install pydub"
      ],
      "metadata": {
        "colab": {
          "base_uri": "https://localhost:8080/"
        },
        "id": "AedhU-egAjFl",
        "outputId": "b76acf65-4ced-41dd-bf01-066a629d8813"
      },
      "execution_count": 2,
      "outputs": [
        {
          "output_type": "stream",
          "name": "stdout",
          "text": [
            "Collecting mutagen\n",
            "  Downloading mutagen-1.47.0-py3-none-any.whl.metadata (1.7 kB)\n",
            "Downloading mutagen-1.47.0-py3-none-any.whl (194 kB)\n",
            "\u001b[?25l   \u001b[90m━━━━━━━━━━━━━━━━━━━━━━━━━━━━━━━━━━━━━━━━\u001b[0m \u001b[32m0.0/194.4 kB\u001b[0m \u001b[31m?\u001b[0m eta \u001b[36m-:--:--\u001b[0m\r\u001b[2K   \u001b[91m━━━━━━━━━━━━━━━━━━━━━━━━━━━━━━━━━━━━━\u001b[0m\u001b[91m╸\u001b[0m\u001b[90m━━\u001b[0m \u001b[32m184.3/194.4 kB\u001b[0m \u001b[31m6.0 MB/s\u001b[0m eta \u001b[36m0:00:01\u001b[0m\r\u001b[2K   \u001b[90m━━━━━━━━━━━━━━━━━━━━━━━━━━━━━━━━━━━━━━━━\u001b[0m \u001b[32m194.4/194.4 kB\u001b[0m \u001b[31m4.6 MB/s\u001b[0m eta \u001b[36m0:00:00\u001b[0m\n",
            "\u001b[?25hInstalling collected packages: mutagen\n",
            "Successfully installed mutagen-1.47.0\n",
            "Requirement already satisfied: pydub in /usr/local/lib/python3.11/dist-packages (0.25.1)\n"
          ]
        }
      ]
    },
    {
      "cell_type": "code",
      "source": [
        "%matplotlib inline\n",
        "\n",
        "# Upload dataset folder directly from file manager\n",
        "from google.colab import files\n",
        "import os\n",
        "\n",
        "print(\"Select and upload your burglary_voice folder (select all MP3 files):\")\n",
        "uploaded = files.upload()"
      ],
      "metadata": {
        "colab": {
          "base_uri": "https://localhost:8080/",
          "height": 610
        },
        "id": "WWXUX3GXSI25",
        "outputId": "c429729e-ab01-49f4-fe97-d5035df736d0"
      },
      "execution_count": 4,
      "outputs": [
        {
          "output_type": "stream",
          "name": "stdout",
          "text": [
            "Select and upload your burglary_voice folder (select all MP3 files):\n"
          ]
        },
        {
          "output_type": "display_data",
          "data": {
            "text/plain": [
              "<IPython.core.display.HTML object>"
            ],
            "text/html": [
              "\n",
              "     <input type=\"file\" id=\"files-0ddc489a-276a-488b-93e6-570becae4a03\" name=\"files[]\" multiple disabled\n",
              "        style=\"border:none\" />\n",
              "     <output id=\"result-0ddc489a-276a-488b-93e6-570becae4a03\">\n",
              "      Upload widget is only available when the cell has been executed in the\n",
              "      current browser session. Please rerun this cell to enable.\n",
              "      </output>\n",
              "      <script>// Copyright 2017 Google LLC\n",
              "//\n",
              "// Licensed under the Apache License, Version 2.0 (the \"License\");\n",
              "// you may not use this file except in compliance with the License.\n",
              "// You may obtain a copy of the License at\n",
              "//\n",
              "//      http://www.apache.org/licenses/LICENSE-2.0\n",
              "//\n",
              "// Unless required by applicable law or agreed to in writing, software\n",
              "// distributed under the License is distributed on an \"AS IS\" BASIS,\n",
              "// WITHOUT WARRANTIES OR CONDITIONS OF ANY KIND, either express or implied.\n",
              "// See the License for the specific language governing permissions and\n",
              "// limitations under the License.\n",
              "\n",
              "/**\n",
              " * @fileoverview Helpers for google.colab Python module.\n",
              " */\n",
              "(function(scope) {\n",
              "function span(text, styleAttributes = {}) {\n",
              "  const element = document.createElement('span');\n",
              "  element.textContent = text;\n",
              "  for (const key of Object.keys(styleAttributes)) {\n",
              "    element.style[key] = styleAttributes[key];\n",
              "  }\n",
              "  return element;\n",
              "}\n",
              "\n",
              "// Max number of bytes which will be uploaded at a time.\n",
              "const MAX_PAYLOAD_SIZE = 100 * 1024;\n",
              "\n",
              "function _uploadFiles(inputId, outputId) {\n",
              "  const steps = uploadFilesStep(inputId, outputId);\n",
              "  const outputElement = document.getElementById(outputId);\n",
              "  // Cache steps on the outputElement to make it available for the next call\n",
              "  // to uploadFilesContinue from Python.\n",
              "  outputElement.steps = steps;\n",
              "\n",
              "  return _uploadFilesContinue(outputId);\n",
              "}\n",
              "\n",
              "// This is roughly an async generator (not supported in the browser yet),\n",
              "// where there are multiple asynchronous steps and the Python side is going\n",
              "// to poll for completion of each step.\n",
              "// This uses a Promise to block the python side on completion of each step,\n",
              "// then passes the result of the previous step as the input to the next step.\n",
              "function _uploadFilesContinue(outputId) {\n",
              "  const outputElement = document.getElementById(outputId);\n",
              "  const steps = outputElement.steps;\n",
              "\n",
              "  const next = steps.next(outputElement.lastPromiseValue);\n",
              "  return Promise.resolve(next.value.promise).then((value) => {\n",
              "    // Cache the last promise value to make it available to the next\n",
              "    // step of the generator.\n",
              "    outputElement.lastPromiseValue = value;\n",
              "    return next.value.response;\n",
              "  });\n",
              "}\n",
              "\n",
              "/**\n",
              " * Generator function which is called between each async step of the upload\n",
              " * process.\n",
              " * @param {string} inputId Element ID of the input file picker element.\n",
              " * @param {string} outputId Element ID of the output display.\n",
              " * @return {!Iterable<!Object>} Iterable of next steps.\n",
              " */\n",
              "function* uploadFilesStep(inputId, outputId) {\n",
              "  const inputElement = document.getElementById(inputId);\n",
              "  inputElement.disabled = false;\n",
              "\n",
              "  const outputElement = document.getElementById(outputId);\n",
              "  outputElement.innerHTML = '';\n",
              "\n",
              "  const pickedPromise = new Promise((resolve) => {\n",
              "    inputElement.addEventListener('change', (e) => {\n",
              "      resolve(e.target.files);\n",
              "    });\n",
              "  });\n",
              "\n",
              "  const cancel = document.createElement('button');\n",
              "  inputElement.parentElement.appendChild(cancel);\n",
              "  cancel.textContent = 'Cancel upload';\n",
              "  const cancelPromise = new Promise((resolve) => {\n",
              "    cancel.onclick = () => {\n",
              "      resolve(null);\n",
              "    };\n",
              "  });\n",
              "\n",
              "  // Wait for the user to pick the files.\n",
              "  const files = yield {\n",
              "    promise: Promise.race([pickedPromise, cancelPromise]),\n",
              "    response: {\n",
              "      action: 'starting',\n",
              "    }\n",
              "  };\n",
              "\n",
              "  cancel.remove();\n",
              "\n",
              "  // Disable the input element since further picks are not allowed.\n",
              "  inputElement.disabled = true;\n",
              "\n",
              "  if (!files) {\n",
              "    return {\n",
              "      response: {\n",
              "        action: 'complete',\n",
              "      }\n",
              "    };\n",
              "  }\n",
              "\n",
              "  for (const file of files) {\n",
              "    const li = document.createElement('li');\n",
              "    li.append(span(file.name, {fontWeight: 'bold'}));\n",
              "    li.append(span(\n",
              "        `(${file.type || 'n/a'}) - ${file.size} bytes, ` +\n",
              "        `last modified: ${\n",
              "            file.lastModifiedDate ? file.lastModifiedDate.toLocaleDateString() :\n",
              "                                    'n/a'} - `));\n",
              "    const percent = span('0% done');\n",
              "    li.appendChild(percent);\n",
              "\n",
              "    outputElement.appendChild(li);\n",
              "\n",
              "    const fileDataPromise = new Promise((resolve) => {\n",
              "      const reader = new FileReader();\n",
              "      reader.onload = (e) => {\n",
              "        resolve(e.target.result);\n",
              "      };\n",
              "      reader.readAsArrayBuffer(file);\n",
              "    });\n",
              "    // Wait for the data to be ready.\n",
              "    let fileData = yield {\n",
              "      promise: fileDataPromise,\n",
              "      response: {\n",
              "        action: 'continue',\n",
              "      }\n",
              "    };\n",
              "\n",
              "    // Use a chunked sending to avoid message size limits. See b/62115660.\n",
              "    let position = 0;\n",
              "    do {\n",
              "      const length = Math.min(fileData.byteLength - position, MAX_PAYLOAD_SIZE);\n",
              "      const chunk = new Uint8Array(fileData, position, length);\n",
              "      position += length;\n",
              "\n",
              "      const base64 = btoa(String.fromCharCode.apply(null, chunk));\n",
              "      yield {\n",
              "        response: {\n",
              "          action: 'append',\n",
              "          file: file.name,\n",
              "          data: base64,\n",
              "        },\n",
              "      };\n",
              "\n",
              "      let percentDone = fileData.byteLength === 0 ?\n",
              "          100 :\n",
              "          Math.round((position / fileData.byteLength) * 100);\n",
              "      percent.textContent = `${percentDone}% done`;\n",
              "\n",
              "    } while (position < fileData.byteLength);\n",
              "  }\n",
              "\n",
              "  // All done.\n",
              "  yield {\n",
              "    response: {\n",
              "      action: 'complete',\n",
              "    }\n",
              "  };\n",
              "}\n",
              "\n",
              "scope.google = scope.google || {};\n",
              "scope.google.colab = scope.google.colab || {};\n",
              "scope.google.colab._files = {\n",
              "  _uploadFiles,\n",
              "  _uploadFilesContinue,\n",
              "};\n",
              "})(self);\n",
              "</script> "
            ]
          },
          "metadata": {}
        },
        {
          "output_type": "stream",
          "name": "stdout",
          "text": [
            "Saving clip1.mp3 to clip1.mp3\n",
            "Saving clip2.mp3 to clip2.mp3\n",
            "Saving clip3.mp3 to clip3.mp3\n",
            "Saving clip4.mp3 to clip4.mp3\n",
            "Saving clip5.mp3 to clip5.mp3\n",
            "Saving clip6.mp3 to clip6.mp3\n",
            "Saving clip7.mp3 to clip7.mp3\n",
            "Saving clip8.mp3 to clip8.mp3\n",
            "Saving clip9.mp3 to clip9.mp3\n",
            "Saving clip10.mp3 to clip10.mp3\n",
            "Saving sec1_4_5_7_11.mp3 to sec1_4_5_7_11.mp3\n",
            "Saving sec1_10.mp3 to sec1_10.mp3\n",
            "Saving sec2_7_18.mp3 to sec2_7_18.mp3\n",
            "Saving sec2_20.mp3 to sec2_20.mp3\n",
            "Saving sec3_7.mp3 to sec3_7.mp3\n",
            "Saving sec4.mp3 to sec4.mp3\n"
          ]
        }
      ]
    },
    {
      "cell_type": "code",
      "source": [
        "# Create dataset directory and move uploaded files\n",
        "dataset_path = '/content/burglary_voice'\n",
        "os.makedirs(dataset_path, exist_ok=True)"
      ],
      "metadata": {
        "id": "rWXBDoDvSGoK"
      },
      "execution_count": 5,
      "outputs": []
    },
    {
      "cell_type": "code",
      "source": [
        "for filename in uploaded.keys():\n",
        "    if filename.lower().endswith('.mp3'):\n",
        "        # Move file to dataset directory\n",
        "        os.rename(filename, os.path.join(dataset_path, filename))\n",
        "        print(f\"Moved {filename} to dataset directory\")\n",
        "\n",
        "print(f\"Dataset ready at: {dataset_path}\")"
      ],
      "metadata": {
        "colab": {
          "base_uri": "https://localhost:8080/"
        },
        "id": "iYbGRqZFSL-M",
        "outputId": "3acc70b4-a7f7-453f-a553-b377b4702376"
      },
      "execution_count": 6,
      "outputs": [
        {
          "output_type": "stream",
          "name": "stdout",
          "text": [
            "Moved clip1.mp3 to dataset directory\n",
            "Moved clip2.mp3 to dataset directory\n",
            "Moved clip3.mp3 to dataset directory\n",
            "Moved clip4.mp3 to dataset directory\n",
            "Moved clip5.mp3 to dataset directory\n",
            "Moved clip6.mp3 to dataset directory\n",
            "Moved clip7.mp3 to dataset directory\n",
            "Moved clip8.mp3 to dataset directory\n",
            "Moved clip9.mp3 to dataset directory\n",
            "Moved clip10.mp3 to dataset directory\n",
            "Moved sec1_4_5_7_11.mp3 to dataset directory\n",
            "Moved sec1_10.mp3 to dataset directory\n",
            "Moved sec2_7_18.mp3 to dataset directory\n",
            "Moved sec2_20.mp3 to dataset directory\n",
            "Moved sec3_7.mp3 to dataset directory\n",
            "Moved sec4.mp3 to dataset directory\n",
            "Dataset ready at: /content/burglary_voice\n"
          ]
        }
      ]
    },
    {
      "cell_type": "code",
      "source": [
        "def create_metadata_from_mp3_files(dataset_path):\n",
        "    \"\"\"Create metadata CSV from MP3 files in the dataset folder\"\"\"\n",
        "    audio_files = []\n",
        "    classes = []\n",
        "    durations = []\n",
        "    sample_rates = []\n",
        "\n",
        "    # Get all MP3 files\n",
        "    for root, dirs, files in os.walk(dataset_path):\n",
        "        for file in files:\n",
        "            if file.lower().endswith('.mp3'):\n",
        "                file_path = os.path.join(root, file)\n",
        "\n",
        "                # Extract class from folder name or filename\n",
        "                # Assuming folder structure: burglary_voice/class_name/file.mp3\n",
        "                # Or filename format: class_name_xxx.mp3\n",
        "                if len(root.split('/')) > 1:\n",
        "                    class_name = os.path.basename(root)\n",
        "                else:\n",
        "                    # Extract from filename\n",
        "                    class_name = file.split('_')[0] if '_' in file else 'unknown'\n",
        "\n",
        "                try:\n",
        "                    # Get audio metadata\n",
        "                    audio = AudioSegment.from_mp3(file_path)\n",
        "                    duration = len(audio) / 1000.0  # Duration in seconds\n",
        "                    sample_rate = audio.frame_rate\n",
        "\n",
        "                    audio_files.append(file)\n",
        "                    classes.append(class_name)\n",
        "                    durations.append(duration)\n",
        "                    sample_rates.append(sample_rate)\n",
        "\n",
        "                except Exception as e:\n",
        "                    print(f\"Error processing {file}: {e}\")\n",
        "                    continue\n",
        "\n",
        "    # Create DataFrame\n",
        "    metadata_df = pd.DataFrame({\n",
        "        'slice_file_name': audio_files,\n",
        "        'class': classes,\n",
        "        'duration': durations,\n",
        "        'sample_rate': sample_rates\n",
        "    })\n",
        "\n",
        "    return metadata_df"
      ],
      "metadata": {
        "id": "nZQunxJ-Ay_O"
      },
      "execution_count": 8,
      "outputs": []
    },
    {
      "cell_type": "code",
      "source": [
        "print(\"Creating metadata from MP3 files...\")\n",
        "metadata = create_metadata_from_mp3_files(dataset_path)\n",
        "metadata.to_csv('data.csv', index=False)\n",
        "print(f\"Created metadata for {len(metadata)} audio files\")\n",
        "\n",
        "# Display metadata\n",
        "metadata.head()"
      ],
      "metadata": {
        "colab": {
          "base_uri": "https://localhost:8080/",
          "height": 241
        },
        "id": "0mN7mCcEA94_",
        "outputId": "44a655a9-616e-49d4-f9be-451eb3da77a8"
      },
      "execution_count": 9,
      "outputs": [
        {
          "output_type": "stream",
          "name": "stdout",
          "text": [
            "Creating metadata from MP3 files...\n",
            "Created metadata for 16 audio files\n"
          ]
        },
        {
          "output_type": "execute_result",
          "data": {
            "text/plain": [
              "  slice_file_name           class  duration  sample_rate\n",
              "0       clip9.mp3  burglary_voice    10.017        44100\n",
              "1       clip7.mp3  burglary_voice    10.001        44100\n",
              "2       clip1.mp3  burglary_voice    10.002        44100\n",
              "3      sec3_7.mp3  burglary_voice    11.099        44100\n",
              "4        sec4.mp3  burglary_voice    32.067        44100"
            ],
            "text/html": [
              "\n",
              "  <div id=\"df-a27c22e5-78e4-40ef-8a08-492aca7287e8\" class=\"colab-df-container\">\n",
              "    <div>\n",
              "<style scoped>\n",
              "    .dataframe tbody tr th:only-of-type {\n",
              "        vertical-align: middle;\n",
              "    }\n",
              "\n",
              "    .dataframe tbody tr th {\n",
              "        vertical-align: top;\n",
              "    }\n",
              "\n",
              "    .dataframe thead th {\n",
              "        text-align: right;\n",
              "    }\n",
              "</style>\n",
              "<table border=\"1\" class=\"dataframe\">\n",
              "  <thead>\n",
              "    <tr style=\"text-align: right;\">\n",
              "      <th></th>\n",
              "      <th>slice_file_name</th>\n",
              "      <th>class</th>\n",
              "      <th>duration</th>\n",
              "      <th>sample_rate</th>\n",
              "    </tr>\n",
              "  </thead>\n",
              "  <tbody>\n",
              "    <tr>\n",
              "      <th>0</th>\n",
              "      <td>clip9.mp3</td>\n",
              "      <td>burglary_voice</td>\n",
              "      <td>10.017</td>\n",
              "      <td>44100</td>\n",
              "    </tr>\n",
              "    <tr>\n",
              "      <th>1</th>\n",
              "      <td>clip7.mp3</td>\n",
              "      <td>burglary_voice</td>\n",
              "      <td>10.001</td>\n",
              "      <td>44100</td>\n",
              "    </tr>\n",
              "    <tr>\n",
              "      <th>2</th>\n",
              "      <td>clip1.mp3</td>\n",
              "      <td>burglary_voice</td>\n",
              "      <td>10.002</td>\n",
              "      <td>44100</td>\n",
              "    </tr>\n",
              "    <tr>\n",
              "      <th>3</th>\n",
              "      <td>sec3_7.mp3</td>\n",
              "      <td>burglary_voice</td>\n",
              "      <td>11.099</td>\n",
              "      <td>44100</td>\n",
              "    </tr>\n",
              "    <tr>\n",
              "      <th>4</th>\n",
              "      <td>sec4.mp3</td>\n",
              "      <td>burglary_voice</td>\n",
              "      <td>32.067</td>\n",
              "      <td>44100</td>\n",
              "    </tr>\n",
              "  </tbody>\n",
              "</table>\n",
              "</div>\n",
              "    <div class=\"colab-df-buttons\">\n",
              "\n",
              "  <div class=\"colab-df-container\">\n",
              "    <button class=\"colab-df-convert\" onclick=\"convertToInteractive('df-a27c22e5-78e4-40ef-8a08-492aca7287e8')\"\n",
              "            title=\"Convert this dataframe to an interactive table.\"\n",
              "            style=\"display:none;\">\n",
              "\n",
              "  <svg xmlns=\"http://www.w3.org/2000/svg\" height=\"24px\" viewBox=\"0 -960 960 960\">\n",
              "    <path d=\"M120-120v-720h720v720H120Zm60-500h600v-160H180v160Zm220 220h160v-160H400v160Zm0 220h160v-160H400v160ZM180-400h160v-160H180v160Zm440 0h160v-160H620v160ZM180-180h160v-160H180v160Zm440 0h160v-160H620v160Z\"/>\n",
              "  </svg>\n",
              "    </button>\n",
              "\n",
              "  <style>\n",
              "    .colab-df-container {\n",
              "      display:flex;\n",
              "      gap: 12px;\n",
              "    }\n",
              "\n",
              "    .colab-df-convert {\n",
              "      background-color: #E8F0FE;\n",
              "      border: none;\n",
              "      border-radius: 50%;\n",
              "      cursor: pointer;\n",
              "      display: none;\n",
              "      fill: #1967D2;\n",
              "      height: 32px;\n",
              "      padding: 0 0 0 0;\n",
              "      width: 32px;\n",
              "    }\n",
              "\n",
              "    .colab-df-convert:hover {\n",
              "      background-color: #E2EBFA;\n",
              "      box-shadow: 0px 1px 2px rgba(60, 64, 67, 0.3), 0px 1px 3px 1px rgba(60, 64, 67, 0.15);\n",
              "      fill: #174EA6;\n",
              "    }\n",
              "\n",
              "    .colab-df-buttons div {\n",
              "      margin-bottom: 4px;\n",
              "    }\n",
              "\n",
              "    [theme=dark] .colab-df-convert {\n",
              "      background-color: #3B4455;\n",
              "      fill: #D2E3FC;\n",
              "    }\n",
              "\n",
              "    [theme=dark] .colab-df-convert:hover {\n",
              "      background-color: #434B5C;\n",
              "      box-shadow: 0px 1px 3px 1px rgba(0, 0, 0, 0.15);\n",
              "      filter: drop-shadow(0px 1px 2px rgba(0, 0, 0, 0.3));\n",
              "      fill: #FFFFFF;\n",
              "    }\n",
              "  </style>\n",
              "\n",
              "    <script>\n",
              "      const buttonEl =\n",
              "        document.querySelector('#df-a27c22e5-78e4-40ef-8a08-492aca7287e8 button.colab-df-convert');\n",
              "      buttonEl.style.display =\n",
              "        google.colab.kernel.accessAllowed ? 'block' : 'none';\n",
              "\n",
              "      async function convertToInteractive(key) {\n",
              "        const element = document.querySelector('#df-a27c22e5-78e4-40ef-8a08-492aca7287e8');\n",
              "        const dataTable =\n",
              "          await google.colab.kernel.invokeFunction('convertToInteractive',\n",
              "                                                    [key], {});\n",
              "        if (!dataTable) return;\n",
              "\n",
              "        const docLinkHtml = 'Like what you see? Visit the ' +\n",
              "          '<a target=\"_blank\" href=https://colab.research.google.com/notebooks/data_table.ipynb>data table notebook</a>'\n",
              "          + ' to learn more about interactive tables.';\n",
              "        element.innerHTML = '';\n",
              "        dataTable['output_type'] = 'display_data';\n",
              "        await google.colab.output.renderOutput(dataTable, element);\n",
              "        const docLink = document.createElement('div');\n",
              "        docLink.innerHTML = docLinkHtml;\n",
              "        element.appendChild(docLink);\n",
              "      }\n",
              "    </script>\n",
              "  </div>\n",
              "\n",
              "\n",
              "    <div id=\"df-7bc49383-3038-4864-a59a-21947de3b314\">\n",
              "      <button class=\"colab-df-quickchart\" onclick=\"quickchart('df-7bc49383-3038-4864-a59a-21947de3b314')\"\n",
              "                title=\"Suggest charts\"\n",
              "                style=\"display:none;\">\n",
              "\n",
              "<svg xmlns=\"http://www.w3.org/2000/svg\" height=\"24px\"viewBox=\"0 0 24 24\"\n",
              "     width=\"24px\">\n",
              "    <g>\n",
              "        <path d=\"M19 3H5c-1.1 0-2 .9-2 2v14c0 1.1.9 2 2 2h14c1.1 0 2-.9 2-2V5c0-1.1-.9-2-2-2zM9 17H7v-7h2v7zm4 0h-2V7h2v10zm4 0h-2v-4h2v4z\"/>\n",
              "    </g>\n",
              "</svg>\n",
              "      </button>\n",
              "\n",
              "<style>\n",
              "  .colab-df-quickchart {\n",
              "      --bg-color: #E8F0FE;\n",
              "      --fill-color: #1967D2;\n",
              "      --hover-bg-color: #E2EBFA;\n",
              "      --hover-fill-color: #174EA6;\n",
              "      --disabled-fill-color: #AAA;\n",
              "      --disabled-bg-color: #DDD;\n",
              "  }\n",
              "\n",
              "  [theme=dark] .colab-df-quickchart {\n",
              "      --bg-color: #3B4455;\n",
              "      --fill-color: #D2E3FC;\n",
              "      --hover-bg-color: #434B5C;\n",
              "      --hover-fill-color: #FFFFFF;\n",
              "      --disabled-bg-color: #3B4455;\n",
              "      --disabled-fill-color: #666;\n",
              "  }\n",
              "\n",
              "  .colab-df-quickchart {\n",
              "    background-color: var(--bg-color);\n",
              "    border: none;\n",
              "    border-radius: 50%;\n",
              "    cursor: pointer;\n",
              "    display: none;\n",
              "    fill: var(--fill-color);\n",
              "    height: 32px;\n",
              "    padding: 0;\n",
              "    width: 32px;\n",
              "  }\n",
              "\n",
              "  .colab-df-quickchart:hover {\n",
              "    background-color: var(--hover-bg-color);\n",
              "    box-shadow: 0 1px 2px rgba(60, 64, 67, 0.3), 0 1px 3px 1px rgba(60, 64, 67, 0.15);\n",
              "    fill: var(--button-hover-fill-color);\n",
              "  }\n",
              "\n",
              "  .colab-df-quickchart-complete:disabled,\n",
              "  .colab-df-quickchart-complete:disabled:hover {\n",
              "    background-color: var(--disabled-bg-color);\n",
              "    fill: var(--disabled-fill-color);\n",
              "    box-shadow: none;\n",
              "  }\n",
              "\n",
              "  .colab-df-spinner {\n",
              "    border: 2px solid var(--fill-color);\n",
              "    border-color: transparent;\n",
              "    border-bottom-color: var(--fill-color);\n",
              "    animation:\n",
              "      spin 1s steps(1) infinite;\n",
              "  }\n",
              "\n",
              "  @keyframes spin {\n",
              "    0% {\n",
              "      border-color: transparent;\n",
              "      border-bottom-color: var(--fill-color);\n",
              "      border-left-color: var(--fill-color);\n",
              "    }\n",
              "    20% {\n",
              "      border-color: transparent;\n",
              "      border-left-color: var(--fill-color);\n",
              "      border-top-color: var(--fill-color);\n",
              "    }\n",
              "    30% {\n",
              "      border-color: transparent;\n",
              "      border-left-color: var(--fill-color);\n",
              "      border-top-color: var(--fill-color);\n",
              "      border-right-color: var(--fill-color);\n",
              "    }\n",
              "    40% {\n",
              "      border-color: transparent;\n",
              "      border-right-color: var(--fill-color);\n",
              "      border-top-color: var(--fill-color);\n",
              "    }\n",
              "    60% {\n",
              "      border-color: transparent;\n",
              "      border-right-color: var(--fill-color);\n",
              "    }\n",
              "    80% {\n",
              "      border-color: transparent;\n",
              "      border-right-color: var(--fill-color);\n",
              "      border-bottom-color: var(--fill-color);\n",
              "    }\n",
              "    90% {\n",
              "      border-color: transparent;\n",
              "      border-bottom-color: var(--fill-color);\n",
              "    }\n",
              "  }\n",
              "</style>\n",
              "\n",
              "      <script>\n",
              "        async function quickchart(key) {\n",
              "          const quickchartButtonEl =\n",
              "            document.querySelector('#' + key + ' button');\n",
              "          quickchartButtonEl.disabled = true;  // To prevent multiple clicks.\n",
              "          quickchartButtonEl.classList.add('colab-df-spinner');\n",
              "          try {\n",
              "            const charts = await google.colab.kernel.invokeFunction(\n",
              "                'suggestCharts', [key], {});\n",
              "          } catch (error) {\n",
              "            console.error('Error during call to suggestCharts:', error);\n",
              "          }\n",
              "          quickchartButtonEl.classList.remove('colab-df-spinner');\n",
              "          quickchartButtonEl.classList.add('colab-df-quickchart-complete');\n",
              "        }\n",
              "        (() => {\n",
              "          let quickchartButtonEl =\n",
              "            document.querySelector('#df-7bc49383-3038-4864-a59a-21947de3b314 button');\n",
              "          quickchartButtonEl.style.display =\n",
              "            google.colab.kernel.accessAllowed ? 'block' : 'none';\n",
              "        })();\n",
              "      </script>\n",
              "    </div>\n",
              "\n",
              "    </div>\n",
              "  </div>\n"
            ],
            "application/vnd.google.colaboratory.intrinsic+json": {
              "type": "dataframe",
              "variable_name": "metadata",
              "summary": "{\n  \"name\": \"metadata\",\n  \"rows\": 16,\n  \"fields\": [\n    {\n      \"column\": \"slice_file_name\",\n      \"properties\": {\n        \"dtype\": \"string\",\n        \"num_unique_values\": 16,\n        \"samples\": [\n          \"clip9.mp3\",\n          \"clip7.mp3\",\n          \"clip5.mp3\"\n        ],\n        \"semantic_type\": \"\",\n        \"description\": \"\"\n      }\n    },\n    {\n      \"column\": \"class\",\n      \"properties\": {\n        \"dtype\": \"category\",\n        \"num_unique_values\": 1,\n        \"samples\": [\n          \"burglary_voice\"\n        ],\n        \"semantic_type\": \"\",\n        \"description\": \"\"\n      }\n    },\n    {\n      \"column\": \"duration\",\n      \"properties\": {\n        \"dtype\": \"number\",\n        \"std\": 14.047587484303724,\n        \"min\": 10.001,\n        \"max\": 59.605,\n        \"num_unique_values\": 12,\n        \"samples\": [\n          36.629\n        ],\n        \"semantic_type\": \"\",\n        \"description\": \"\"\n      }\n    },\n    {\n      \"column\": \"sample_rate\",\n      \"properties\": {\n        \"dtype\": \"number\",\n        \"std\": 1332,\n        \"min\": 44100,\n        \"max\": 48000,\n        \"num_unique_values\": 2,\n        \"samples\": [\n          48000\n        ],\n        \"semantic_type\": \"\",\n        \"description\": \"\"\n      }\n    }\n  ]\n}"
            }
          },
          "metadata": {},
          "execution_count": 9
        }
      ]
    },
    {
      "cell_type": "code",
      "source": [
        "class_distr = metadata['class'].value_counts()\n",
        "print(\"Class distribution:\")\n",
        "print(class_distr)"
      ],
      "metadata": {
        "colab": {
          "base_uri": "https://localhost:8080/"
        },
        "id": "zsGhdkySBID_",
        "outputId": "75d4974c-b47f-48b2-affd-383b50aa56e5"
      },
      "execution_count": 10,
      "outputs": [
        {
          "output_type": "stream",
          "name": "stdout",
          "text": [
            "Class distribution:\n",
            "class\n",
            "burglary_voice    16\n",
            "Name: count, dtype: int64\n"
          ]
        }
      ]
    },
    {
      "cell_type": "code",
      "source": [
        "# Plot class distributions\n",
        "plt.figure(figsize=(12, 6))\n",
        "plt.bar(class_distr.index, class_distr.values, alpha=0.8)\n",
        "plt.title('Class Distribution')\n",
        "plt.ylabel('Number of Occurrences', fontsize=12)\n",
        "plt.xlabel('Class Name', fontsize=12)\n",
        "plt.xticks(rotation=45)\n",
        "plt.tight_layout()\n",
        "plt.show()"
      ],
      "metadata": {
        "colab": {
          "base_uri": "https://localhost:8080/",
          "height": 607
        },
        "id": "tKwsVuzEBLNf",
        "outputId": "624ccbe5-835c-42fb-e44f-be22eafb902c"
      },
      "execution_count": 30,
      "outputs": [
        {
          "output_type": "display_data",
          "data": {
            "text/plain": [
              "<Figure size 1200x600 with 1 Axes>"
            ],
            "image/png": "[encoded data removed]"
          },
          "metadata": {}
        }
      ]
    },
    {
      "cell_type": "code",
      "source": [
        "# Check for missing values\n",
        "missing_values = metadata.isnull().sum()\n",
        "print(\"Missing values:\")\n",
        "print(missing_values)"
      ],
      "metadata": {
        "colab": {
          "base_uri": "https://localhost:8080/"
        },
        "id": "RhfwZzXNBOQ1",
        "outputId": "88995c57-743a-4405-d745-17e8e2524dea"
      },
      "execution_count": 12,
      "outputs": [
        {
          "output_type": "stream",
          "name": "stdout",
          "text": [
            "Missing values:\n",
            "slice_file_name    0\n",
            "class              0\n",
            "duration           0\n",
            "sample_rate        0\n",
            "dtype: int64\n"
          ]
        }
      ]
    },
    {
      "cell_type": "code",
      "source": [
        "def get_audio_metadata_mp3(filepath):\n",
        "    #\"\\\"\\\"Get metadata from MP3 file\\\"\\\"\\\"\n",
        "    metadata_dict = {}\n",
        "    try:\n",
        "        # Using pydub for MP3\n",
        "        audio = AudioSegment.from_mp3(filepath)\n",
        "        metadata_dict['length'] = len(audio) / 1000.0  # Convert to seconds\n",
        "        metadata_dict['sample_rate'] = audio.frame_rate\n",
        "        metadata_dict['channels'] = audio.channels\n",
        "        metadata_dict['bitrate'] = None  # Not directly available in pydub\n",
        "        metadata_dict['bits_per_sample'] = audio.sample_width * 8\n",
        "\n",
        "    except Exception as e:\n",
        "        print(f\"Error getting metadata for {filepath}: {e}\")\n",
        "        metadata_dict = {'length': 0, 'sample_rate': 22050, 'channels': 1, 'bitrate': 0, 'bits_per_sample': 16}\n",
        "\n",
        "    return metadata_dict\n",
        "\n",
        "# Function to create complete dataset DataFrame\n",
        "def create_complete_dataset_df(metadata_df, dataset_path):\n",
        "    #\"\\\"\\\"Create complete dataset DataFrame with file paths\\\"\\\"\\\"\n",
        "    filepaths = []\n",
        "    for i, row in metadata_df.iterrows():\n",
        "        # Find the actual file path\n",
        "        found = False\n",
        "        for root, dirs, files in os.walk(dataset_path):\n",
        "            if row['slice_file_name'] in files:\n",
        "                filepaths.append(os.path.join(root, row['slice_file_name']))\n",
        "                found = True\n",
        "                break\n",
        "        if not found:\n",
        "            filepaths.append(None)\n",
        "\n",
        "    metadata_df['filepath'] = filepaths\n",
        "    return metadata_df\n",
        "\n",
        "# Create complete dataset\n",
        "metadata_df = create_complete_dataset_df(metadata, dataset_path)\n"
      ],
      "metadata": {
        "id": "95BWDKq0BWO-"
      },
      "execution_count": 15,
      "outputs": []
    },
    {
      "cell_type": "code",
      "source": [
        "\n",
        "# Remove rows with missing filepaths\n",
        "metadata_df = metadata_df.dropna(subset=['filepath'])\n",
        "print(f\"Dataset contains {len(metadata_df)} valid audio files\")\n"
      ],
      "metadata": {
        "colab": {
          "base_uri": "https://localhost:8080/"
        },
        "id": "ZpCDWcwzBW20",
        "outputId": "81f1e6af-e338-4ed3-e772-a9a9bf4b07cf"
      },
      "execution_count": 16,
      "outputs": [
        {
          "output_type": "stream",
          "name": "stdout",
          "text": [
            "Dataset contains 16 valid audio files\n"
          ]
        }
      ]
    },
    {
      "cell_type": "code",
      "source": [
        "# Enhanced MFCC feature extraction for MP3\n",
        "def features_extractor_mp3(file_path):\n",
        "    #\"\\\"\\\"Extract MFCC features from MP3 file\\\"\\\"\\\"\n",
        "    try:\n",
        "        # Load MP3 file using librosa (handles MP3 automatically)\n",
        "        audio, sample_rate = librosa.load(file_path, res_type='kaiser_fast', sr=22050)\n",
        "\n",
        "        # Apply preprocessing\n",
        "        audio_filtered = librosa.effects.preemphasis(audio, coef=0.95)\n",
        "\n",
        "        # Extract MFCC features\n",
        "        mfccs_features = librosa.feature.mfcc(y=audio_filtered, sr=sample_rate, n_mfcc=40, n_fft=1024)\n",
        "        mfccs_scaled_features = np.mean(mfccs_features.T, axis=0)\n",
        "\n",
        "        # Normalize features\n",
        "        mfccs_scaled_features = (mfccs_scaled_features - np.mean(mfccs_scaled_features)) / np.std(mfccs_scaled_features)\n",
        "\n",
        "        return mfccs_scaled_features\n",
        "    except Exception as e:\n",
        "        print(f\"Error processing {file_path}: {e}\")\n",
        "        return np.zeros(40)  # Return zero vector if processing fails\n",
        "\n",
        "# Extract features from all MP3 files\n",
        "print(\"Extracting MFCC features from MP3 files...\")\n",
        "extracted_features = []\n",
        "\n",
        "for index_num, row in tqdm(metadata_df.iterrows(), total=len(metadata_df)):\n",
        "    file_path = row['filepath']\n",
        "    final_class_labels = row['class']\n",
        "\n",
        "    if file_path and os.path.exists(file_path):\n",
        "        data = features_extractor_mp3(file_path)\n",
        "        extracted_features.append([data, final_class_labels])\n",
        "    else:\n",
        "        print(f\"File not found: {file_path}\")\n",
        "\n",
        "# Convert to DataFrame\n",
        "extracted_features_df = pd.DataFrame(extracted_features, columns=['feature', 'class'])\n",
        "print(f\"Extracted features from {len(extracted_features_df)} files\")\n"
      ],
      "metadata": {
        "colab": {
          "base_uri": "https://localhost:8080/"
        },
        "id": "2EqgJRhFBfAI",
        "outputId": "af20ff3a-b156-49fe-e4c3-9a708584ff19"
      },
      "execution_count": 18,
      "outputs": [
        {
          "output_type": "stream",
          "name": "stdout",
          "text": [
            "Extracting MFCC features from MP3 files...\n"
          ]
        },
        {
          "output_type": "stream",
          "name": "stderr",
          "text": [
            " 31%|███▏      | 5/16 [00:14<00:24,  2.18s/it]"
          ]
        },
        {
          "output_type": "stream",
          "name": "stdout",
          "text": [
            "Error processing /content/burglary_voice/clip9.mp3: No module named 'resampy'\n",
            "\n",
            "This error is lazily reported, having originally occured in\n",
            "  File /usr/local/lib/python3.11/dist-packages/librosa/core/audio.py, line 33, in <module>\n",
            "\n",
            "----> resampy = lazy.load(\"resampy\")\n",
            "Error processing /content/burglary_voice/clip7.mp3: No module named 'resampy'\n",
            "\n",
            "This error is lazily reported, having originally occured in\n",
            "  File /usr/local/lib/python3.11/dist-packages/librosa/core/audio.py, line 33, in <module>\n",
            "\n",
            "----> resampy = lazy.load(\"resampy\")\n",
            "Error processing /content/burglary_voice/clip1.mp3: No module named 'resampy'\n",
            "\n",
            "This error is lazily reported, having originally occured in\n",
            "  File /usr/local/lib/python3.11/dist-packages/librosa/core/audio.py, line 33, in <module>\n",
            "\n",
            "----> resampy = lazy.load(\"resampy\")\n",
            "Error processing /content/burglary_voice/sec3_7.mp3: No module named 'resampy'\n",
            "\n",
            "This error is lazily reported, having originally occured in\n",
            "  File /usr/local/lib/python3.11/dist-packages/librosa/core/audio.py, line 33, in <module>\n",
            "\n",
            "----> resampy = lazy.load(\"resampy\")\n",
            "Error processing /content/burglary_voice/sec4.mp3: No module named 'resampy'\n",
            "\n",
            "This error is lazily reported, having originally occured in\n",
            "  File /usr/local/lib/python3.11/dist-packages/librosa/core/audio.py, line 33, in <module>\n",
            "\n",
            "----> resampy = lazy.load(\"resampy\")\n",
            "Error processing /content/burglary_voice/clip5.mp3: No module named 'resampy'\n",
            "\n",
            "This error is lazily reported, having originally occured in\n",
            "  File /usr/local/lib/python3.11/dist-packages/librosa/core/audio.py, line 33, in <module>\n",
            "\n",
            "----> resampy = lazy.load(\"resampy\")\n"
          ]
        },
        {
          "output_type": "stream",
          "name": "stderr",
          "text": [
            "\r 56%|█████▋    | 9/16 [00:14<00:07,  1.00s/it]"
          ]
        },
        {
          "output_type": "stream",
          "name": "stdout",
          "text": [
            "Error processing /content/burglary_voice/clip8.mp3: No module named 'resampy'\n",
            "\n",
            "This error is lazily reported, having originally occured in\n",
            "  File /usr/local/lib/python3.11/dist-packages/librosa/core/audio.py, line 33, in <module>\n",
            "\n",
            "----> resampy = lazy.load(\"resampy\")\n",
            "Error processing /content/burglary_voice/sec1_4_5_7_11.mp3: No module named 'resampy'\n",
            "\n",
            "This error is lazily reported, having originally occured in\n",
            "  File /usr/local/lib/python3.11/dist-packages/librosa/core/audio.py, line 33, in <module>\n",
            "\n",
            "----> resampy = lazy.load(\"resampy\")\n",
            "Error processing /content/burglary_voice/sec2_7_18.mp3: No module named 'resampy'\n",
            "\n",
            "This error is lazily reported, having originally occured in\n",
            "  File /usr/local/lib/python3.11/dist-packages/librosa/core/audio.py, line 33, in <module>\n",
            "\n",
            "----> resampy = lazy.load(\"resampy\")\n",
            "Error processing /content/burglary_voice/clip2.mp3: No module named 'resampy'\n",
            "\n",
            "This error is lazily reported, having originally occured in\n",
            "  File /usr/local/lib/python3.11/dist-packages/librosa/core/audio.py, line 33, in <module>\n",
            "\n",
            "----> resampy = lazy.load(\"resampy\")\n"
          ]
        },
        {
          "output_type": "stream",
          "name": "stderr",
          "text": [
            "\r 75%|███████▌  | 12/16 [00:14<00:02,  1.52it/s]"
          ]
        },
        {
          "output_type": "stream",
          "name": "stdout",
          "text": [
            "Error processing /content/burglary_voice/sec1_10.mp3: No module named 'resampy'\n",
            "\n",
            "This error is lazily reported, having originally occured in\n",
            "  File /usr/local/lib/python3.11/dist-packages/librosa/core/audio.py, line 33, in <module>\n",
            "\n",
            "----> resampy = lazy.load(\"resampy\")\n",
            "Error processing /content/burglary_voice/clip6.mp3: No module named 'resampy'\n",
            "\n",
            "This error is lazily reported, having originally occured in\n",
            "  File /usr/local/lib/python3.11/dist-packages/librosa/core/audio.py, line 33, in <module>\n",
            "\n",
            "----> resampy = lazy.load(\"resampy\")\n",
            "Error processing /content/burglary_voice/sec2_20.mp3: No module named 'resampy'\n",
            "\n",
            "This error is lazily reported, having originally occured in\n",
            "  File /usr/local/lib/python3.11/dist-packages/librosa/core/audio.py, line 33, in <module>\n",
            "\n",
            "----> resampy = lazy.load(\"resampy\")\n",
            "Error processing /content/burglary_voice/clip4.mp3: No module named 'resampy'\n",
            "\n",
            "This error is lazily reported, having originally occured in\n",
            "  File /usr/local/lib/python3.11/dist-packages/librosa/core/audio.py, line 33, in <module>\n",
            "\n",
            "----> resampy = lazy.load(\"resampy\")\n"
          ]
        },
        {
          "output_type": "stream",
          "name": "stderr",
          "text": [
            "100%|██████████| 16/16 [00:15<00:00,  1.05it/s]"
          ]
        },
        {
          "output_type": "stream",
          "name": "stdout",
          "text": [
            "Error processing /content/burglary_voice/clip3.mp3: No module named 'resampy'\n",
            "\n",
            "This error is lazily reported, having originally occured in\n",
            "  File /usr/local/lib/python3.11/dist-packages/librosa/core/audio.py, line 33, in <module>\n",
            "\n",
            "----> resampy = lazy.load(\"resampy\")\n",
            "Error processing /content/burglary_voice/clip10.mp3: No module named 'resampy'\n",
            "\n",
            "This error is lazily reported, having originally occured in\n",
            "  File /usr/local/lib/python3.11/dist-packages/librosa/core/audio.py, line 33, in <module>\n",
            "\n",
            "----> resampy = lazy.load(\"resampy\")\n",
            "Extracted features from 16 files\n"
          ]
        },
        {
          "output_type": "stream",
          "name": "stderr",
          "text": [
            "\n"
          ]
        }
      ]
    },
    {
      "cell_type": "code",
      "source": [
        "extracted_features_df.to_csv(\"extracted_features_burglary.csv\", index=False)\n"
      ],
      "metadata": {
        "id": "C9dIK3lrBmW9"
      },
      "execution_count": 19,
      "outputs": []
    },
    {
      "cell_type": "code",
      "source": [
        "# Display feature extraction results\n",
        "print(\"Feature extraction completed!\")\n",
        "print(\"Classes found:\", extracted_features_df['class'].unique())\n",
        "print(\"Feature shape:\", extracted_features_df['feature'].iloc[0].shape if len(extracted_features_df) > 0 else \"No features\")\n",
        "\n",
        "# Data preparation for training\n",
        "X = np.array(extracted_features_df['feature'].tolist())\n",
        "y = np.array(extracted_features_df['class'].tolist())"
      ],
      "metadata": {
        "colab": {
          "base_uri": "https://localhost:8080/"
        },
        "id": "hLXonE_SBuAL",
        "outputId": "45ccf956-ff86-47c7-ab22-720cb68054d0"
      },
      "execution_count": 20,
      "outputs": [
        {
          "output_type": "stream",
          "name": "stdout",
          "text": [
            "Feature extraction completed!\n",
            "Classes found: ['burglary_voice']\n",
            "Feature shape: (40,)\n"
          ]
        }
      ]
    },
    {
      "cell_type": "code",
      "source": [
        "print(f\"Feature matrix shape: {X.shape}\")\n",
        "print(f\"Labels shape: {y.shape}\")"
      ],
      "metadata": {
        "colab": {
          "base_uri": "https://localhost:8080/"
        },
        "id": "kO19clpfBw5r",
        "outputId": "ab68f246-78ed-4767-d654-c94364fa2fe8"
      },
      "execution_count": 21,
      "outputs": [
        {
          "output_type": "stream",
          "name": "stdout",
          "text": [
            "Feature matrix shape: (16, 40)\n",
            "Labels shape: (16,)\n"
          ]
        }
      ]
    },
    {
      "cell_type": "code",
      "source": [
        "from tensorflow.keras.utils import to_categorical\n",
        "from sklearn.preprocessing import LabelEncoder\n",
        "\n",
        "labelencoder = LabelEncoder()\n",
        "y_encoded = to_categorical(labelencoder.fit_transform(y))"
      ],
      "metadata": {
        "id": "6e2k1JPABzt2"
      },
      "execution_count": 22,
      "outputs": []
    },
    {
      "cell_type": "code",
      "source": [
        "print(\"Label encoding completed\")\n",
        "print(\"Classes:\", labelencoder.classes_)\n",
        "print(\"Encoded shape:\", y_encoded.shape)\n"
      ],
      "metadata": {
        "colab": {
          "base_uri": "https://localhost:8080/"
        },
        "id": "dK5TYM5nB3ET",
        "outputId": "c3046754-abe9-4919-e207-1e991d3719d6"
      },
      "execution_count": 23,
      "outputs": [
        {
          "output_type": "stream",
          "name": "stdout",
          "text": [
            "Label encoding completed\n",
            "Classes: ['burglary_voice']\n",
            "Encoded shape: (16, 1)\n"
          ]
        }
      ]
    },
    {
      "cell_type": "code",
      "source": [
        "from sklearn.model_selection import train_test_split\n",
        "\n",
        "X_train, X_test, y_train, y_test = train_test_split(X, y_encoded, test_size=0.2, random_state=42)\n",
        "\n",
        "print(f\"Training set: {X_train.shape}\")\n",
        "print(f\"Test set: {X_test.shape}\")\n",
        "\n",
        "# Model creation\n",
        "import tensorflow as tf\n",
        "from tensorflow.keras.models import Sequential\n",
        "from tensorflow.keras.layers import Dense, Activation, Dropout\n",
        "from tensorflow.keras.callbacks import ModelCheckpoint, EarlyStopping\n",
        "from datetime import datetime\n",
        "\n",
        "print(f\"TensorFlow version: {tf.__version__}\")\n",
        "\n",
        "num_labels = y_encoded.shape[1]\n",
        "print(f\"Number of classes: {num_labels}\")"
      ],
      "metadata": {
        "colab": {
          "base_uri": "https://localhost:8080/"
        },
        "id": "eG3RDPqECHvj",
        "outputId": "6f26f6b4-bed0-470f-fba6-299d0d7ba7bf"
      },
      "execution_count": 24,
      "outputs": [
        {
          "output_type": "stream",
          "name": "stdout",
          "text": [
            "Training set: (12, 40)\n",
            "Test set: (4, 40)\n",
            "TensorFlow version: 2.18.0\n",
            "Number of classes: 1\n"
          ]
        }
      ]
    },
    {
      "cell_type": "code",
      "source": [
        "# Create neural network model\n",
        "model = Sequential()\n",
        "\n",
        "# First layer\n",
        "model.add(Dense(1600, input_shape=(40,)))\n",
        "model.add(Activation('relu'))\n",
        "model.add(Dropout(0.5))\n",
        "\n",
        "# Second layer\n",
        "model.add(Dense(800))\n",
        "model.add(Activation('relu'))\n",
        "model.add(Dropout(0.5))\n",
        "\n",
        "# Third layer\n",
        "model.add(Dense(400))\n",
        "model.add(Activation('relu'))\n",
        "model.add(Dropout(0.5))\n",
        "\n",
        "# Output layer\n",
        "model.add(Dense(num_labels))\n",
        "model.add(Activation('softmax'))\n",
        "\n",
        "# Compile model\n",
        "model.compile(loss='categorical_crossentropy', metrics=['accuracy'], optimizer='adam')\n",
        "\n",
        "# Model summary\n",
        "model.summary()\n"
      ],
      "metadata": {
        "colab": {
          "base_uri": "https://localhost:8080/",
          "height": 531
        },
        "id": "Op8ZQWFqCMc4",
        "outputId": "564b1cb2-f7a3-4b15-d98f-cececc632d92"
      },
      "execution_count": 25,
      "outputs": [
        {
          "output_type": "stream",
          "name": "stderr",
          "text": [
            "/usr/local/lib/python3.11/dist-packages/keras/src/layers/core/dense.py:87: UserWarning: Do not pass an `input_shape`/`input_dim` argument to a layer. When using Sequential models, prefer using an `Input(shape)` object as the first layer in the model instead.\n",
            "  super().__init__(activity_regularizer=activity_regularizer, **kwargs)\n"
          ]
        },
        {
          "output_type": "display_data",
          "data": {
            "text/plain": [
              "\u001b[1mModel: \"sequential\"\u001b[0m\n"
            ],
            "text/html": [
              "<pre style=\"white-space:pre;overflow-x:auto;line-height:normal;font-family:Menlo,'DejaVu Sans Mono',consolas,'Courier New',monospace\"><span style=\"font-weight: bold\">Model: \"sequential\"</span>\n",
              "</pre>\n"
            ]
          },
          "metadata": {}
        },
        {
          "output_type": "display_data",
          "data": {
            "text/plain": [
              "┏━━━━━━━━━━━━━━━━━━━━━━━━━━━━━━━━━┳━━━━━━━━━━━━━━━━━━━━━━━━┳━━━━━━━━━━━━━━━┓\n",
              "┃\u001b[1m \u001b[0m\u001b[1mLayer (type)                   \u001b[0m\u001b[1m \u001b[0m┃\u001b[1m \u001b[0m\u001b[1mOutput Shape          \u001b[0m\u001b[1m \u001b[0m┃\u001b[1m \u001b[0m\u001b[1m      Param #\u001b[0m\u001b[1m \u001b[0m┃\n",
              "┡━━━━━━━━━━━━━━━━━━━━━━━━━━━━━━━━━╇━━━━━━━━━━━━━━━━━━━━━━━━╇━━━━━━━━━━━━━━━┩\n",
              "│ dense (\u001b[38;5;33mDense\u001b[0m)                   │ (\u001b[38;5;45mNone\u001b[0m, \u001b[38;5;34m1600\u001b[0m)           │        \u001b[38;5;34m65,600\u001b[0m │\n",
              "├─────────────────────────────────┼────────────────────────┼───────────────┤\n",
              "│ activation (\u001b[38;5;33mActivation\u001b[0m)         │ (\u001b[38;5;45mNone\u001b[0m, \u001b[38;5;34m1600\u001b[0m)           │             \u001b[38;5;34m0\u001b[0m │\n",
              "├─────────────────────────────────┼────────────────────────┼───────────────┤\n",
              "│ dropout (\u001b[38;5;33mDropout\u001b[0m)               │ (\u001b[38;5;45mNone\u001b[0m, \u001b[38;5;34m1600\u001b[0m)           │             \u001b[38;5;34m0\u001b[0m │\n",
              "├─────────────────────────────────┼────────────────────────┼───────────────┤\n",
              "│ dense_1 (\u001b[38;5;33mDense\u001b[0m)                 │ (\u001b[38;5;45mNone\u001b[0m, \u001b[38;5;34m800\u001b[0m)            │     \u001b[38;5;34m1,280,800\u001b[0m │\n",
              "├─────────────────────────────────┼────────────────────────┼───────────────┤\n",
              "│ activation_1 (\u001b[38;5;33mActivation\u001b[0m)       │ (\u001b[38;5;45mNone\u001b[0m, \u001b[38;5;34m800\u001b[0m)            │             \u001b[38;5;34m0\u001b[0m │\n",
              "├─────────────────────────────────┼────────────────────────┼───────────────┤\n",
              "│ dropout_1 (\u001b[38;5;33mDropout\u001b[0m)             │ (\u001b[38;5;45mNone\u001b[0m, \u001b[38;5;34m800\u001b[0m)            │             \u001b[38;5;34m0\u001b[0m │\n",
              "├─────────────────────────────────┼────────────────────────┼───────────────┤\n",
              "│ dense_2 (\u001b[38;5;33mDense\u001b[0m)                 │ (\u001b[38;5;45mNone\u001b[0m, \u001b[38;5;34m400\u001b[0m)            │       \u001b[38;5;34m320,400\u001b[0m │\n",
              "├─────────────────────────────────┼────────────────────────┼───────────────┤\n",
              "│ activation_2 (\u001b[38;5;33mActivation\u001b[0m)       │ (\u001b[38;5;45mNone\u001b[0m, \u001b[38;5;34m400\u001b[0m)            │             \u001b[38;5;34m0\u001b[0m │\n",
              "├─────────────────────────────────┼────────────────────────┼───────────────┤\n",
              "│ dropout_2 (\u001b[38;5;33mDropout\u001b[0m)             │ (\u001b[38;5;45mNone\u001b[0m, \u001b[38;5;34m400\u001b[0m)            │             \u001b[38;5;34m0\u001b[0m │\n",
              "├─────────────────────────────────┼────────────────────────┼───────────────┤\n",
              "│ dense_3 (\u001b[38;5;33mDense\u001b[0m)                 │ (\u001b[38;5;45mNone\u001b[0m, \u001b[38;5;34m1\u001b[0m)              │           \u001b[38;5;34m401\u001b[0m │\n",
              "├─────────────────────────────────┼────────────────────────┼───────────────┤\n",
              "│ activation_3 (\u001b[38;5;33mActivation\u001b[0m)       │ (\u001b[38;5;45mNone\u001b[0m, \u001b[38;5;34m1\u001b[0m)              │             \u001b[38;5;34m0\u001b[0m │\n",
              "└─────────────────────────────────┴────────────────────────┴───────────────┘\n"
            ],
            "text/html": [
              "<pre style=\"white-space:pre;overflow-x:auto;line-height:normal;font-family:Menlo,'DejaVu Sans Mono',consolas,'Courier New',monospace\">┏━━━━━━━━━━━━━━━━━━━━━━━━━━━━━━━━━┳━━━━━━━━━━━━━━━━━━━━━━━━┳━━━━━━━━━━━━━━━┓\n",
              "┃<span style=\"font-weight: bold\"> Layer (type)                    </span>┃<span style=\"font-weight: bold\"> Output Shape           </span>┃<span style=\"font-weight: bold\">       Param # </span>┃\n",
              "┡━━━━━━━━━━━━━━━━━━━━━━━━━━━━━━━━━╇━━━━━━━━━━━━━━━━━━━━━━━━╇━━━━━━━━━━━━━━━┩\n",
              "│ dense (<span style=\"color: #0087ff; text-decoration-color: #0087ff\">Dense</span>)                   │ (<span style=\"color: #00d7ff; text-decoration-color: #00d7ff\">None</span>, <span style=\"color: #00af00; text-decoration-color: #00af00\">1600</span>)           │        <span style=\"color: #00af00; text-decoration-color: #00af00\">65,600</span> │\n",
              "├─────────────────────────────────┼────────────────────────┼───────────────┤\n",
              "│ activation (<span style=\"color: #0087ff; text-decoration-color: #0087ff\">Activation</span>)         │ (<span style=\"color: #00d7ff; text-decoration-color: #00d7ff\">None</span>, <span style=\"color: #00af00; text-decoration-color: #00af00\">1600</span>)           │             <span style=\"color: #00af00; text-decoration-color: #00af00\">0</span> │\n",
              "├─────────────────────────────────┼────────────────────────┼───────────────┤\n",
              "│ dropout (<span style=\"color: #0087ff; text-decoration-color: #0087ff\">Dropout</span>)               │ (<span style=\"color: #00d7ff; text-decoration-color: #00d7ff\">None</span>, <span style=\"color: #00af00; text-decoration-color: #00af00\">1600</span>)           │             <span style=\"color: #00af00; text-decoration-color: #00af00\">0</span> │\n",
              "├─────────────────────────────────┼────────────────────────┼───────────────┤\n",
              "│ dense_1 (<span style=\"color: #0087ff; text-decoration-color: #0087ff\">Dense</span>)                 │ (<span style=\"color: #00d7ff; text-decoration-color: #00d7ff\">None</span>, <span style=\"color: #00af00; text-decoration-color: #00af00\">800</span>)            │     <span style=\"color: #00af00; text-decoration-color: #00af00\">1,280,800</span> │\n",
              "├─────────────────────────────────┼────────────────────────┼───────────────┤\n",
              "│ activation_1 (<span style=\"color: #0087ff; text-decoration-color: #0087ff\">Activation</span>)       │ (<span style=\"color: #00d7ff; text-decoration-color: #00d7ff\">None</span>, <span style=\"color: #00af00; text-decoration-color: #00af00\">800</span>)            │             <span style=\"color: #00af00; text-decoration-color: #00af00\">0</span> │\n",
              "├─────────────────────────────────┼────────────────────────┼───────────────┤\n",
              "│ dropout_1 (<span style=\"color: #0087ff; text-decoration-color: #0087ff\">Dropout</span>)             │ (<span style=\"color: #00d7ff; text-decoration-color: #00d7ff\">None</span>, <span style=\"color: #00af00; text-decoration-color: #00af00\">800</span>)            │             <span style=\"color: #00af00; text-decoration-color: #00af00\">0</span> │\n",
              "├─────────────────────────────────┼────────────────────────┼───────────────┤\n",
              "│ dense_2 (<span style=\"color: #0087ff; text-decoration-color: #0087ff\">Dense</span>)                 │ (<span style=\"color: #00d7ff; text-decoration-color: #00d7ff\">None</span>, <span style=\"color: #00af00; text-decoration-color: #00af00\">400</span>)            │       <span style=\"color: #00af00; text-decoration-color: #00af00\">320,400</span> │\n",
              "├─────────────────────────────────┼────────────────────────┼───────────────┤\n",
              "│ activation_2 (<span style=\"color: #0087ff; text-decoration-color: #0087ff\">Activation</span>)       │ (<span style=\"color: #00d7ff; text-decoration-color: #00d7ff\">None</span>, <span style=\"color: #00af00; text-decoration-color: #00af00\">400</span>)            │             <span style=\"color: #00af00; text-decoration-color: #00af00\">0</span> │\n",
              "├─────────────────────────────────┼────────────────────────┼───────────────┤\n",
              "│ dropout_2 (<span style=\"color: #0087ff; text-decoration-color: #0087ff\">Dropout</span>)             │ (<span style=\"color: #00d7ff; text-decoration-color: #00d7ff\">None</span>, <span style=\"color: #00af00; text-decoration-color: #00af00\">400</span>)            │             <span style=\"color: #00af00; text-decoration-color: #00af00\">0</span> │\n",
              "├─────────────────────────────────┼────────────────────────┼───────────────┤\n",
              "│ dense_3 (<span style=\"color: #0087ff; text-decoration-color: #0087ff\">Dense</span>)                 │ (<span style=\"color: #00d7ff; text-decoration-color: #00d7ff\">None</span>, <span style=\"color: #00af00; text-decoration-color: #00af00\">1</span>)              │           <span style=\"color: #00af00; text-decoration-color: #00af00\">401</span> │\n",
              "├─────────────────────────────────┼────────────────────────┼───────────────┤\n",
              "│ activation_3 (<span style=\"color: #0087ff; text-decoration-color: #0087ff\">Activation</span>)       │ (<span style=\"color: #00d7ff; text-decoration-color: #00d7ff\">None</span>, <span style=\"color: #00af00; text-decoration-color: #00af00\">1</span>)              │             <span style=\"color: #00af00; text-decoration-color: #00af00\">0</span> │\n",
              "└─────────────────────────────────┴────────────────────────┴───────────────┘\n",
              "</pre>\n"
            ]
          },
          "metadata": {}
        },
        {
          "output_type": "display_data",
          "data": {
            "text/plain": [
              "\u001b[1m Total params: \u001b[0m\u001b[38;5;34m1,667,201\u001b[0m (6.36 MB)\n"
            ],
            "text/html": [
              "<pre style=\"white-space:pre;overflow-x:auto;line-height:normal;font-family:Menlo,'DejaVu Sans Mono',consolas,'Courier New',monospace\"><span style=\"font-weight: bold\"> Total params: </span><span style=\"color: #00af00; text-decoration-color: #00af00\">1,667,201</span> (6.36 MB)\n",
              "</pre>\n"
            ]
          },
          "metadata": {}
        },
        {
          "output_type": "display_data",
          "data": {
            "text/plain": [
              "\u001b[1m Trainable params: \u001b[0m\u001b[38;5;34m1,667,201\u001b[0m (6.36 MB)\n"
            ],
            "text/html": [
              "<pre style=\"white-space:pre;overflow-x:auto;line-height:normal;font-family:Menlo,'DejaVu Sans Mono',consolas,'Courier New',monospace\"><span style=\"font-weight: bold\"> Trainable params: </span><span style=\"color: #00af00; text-decoration-color: #00af00\">1,667,201</span> (6.36 MB)\n",
              "</pre>\n"
            ]
          },
          "metadata": {}
        },
        {
          "output_type": "display_data",
          "data": {
            "text/plain": [
              "\u001b[1m Non-trainable params: \u001b[0m\u001b[38;5;34m0\u001b[0m (0.00 B)\n"
            ],
            "text/html": [
              "<pre style=\"white-space:pre;overflow-x:auto;line-height:normal;font-family:Menlo,'DejaVu Sans Mono',consolas,'Courier New',monospace\"><span style=\"font-weight: bold\"> Non-trainable params: </span><span style=\"color: #00af00; text-decoration-color: #00af00\">0</span> (0.00 B)\n",
              "</pre>\n"
            ]
          },
          "metadata": {}
        }
      ]
    },
    {
      "cell_type": "code",
      "source": [
        "num_epochs = 100\n",
        "num_batch_size = 32\n",
        "\n",
        "# Callbacks\n",
        "os.makedirs('saved_models', exist_ok=True)\n",
        "checkpointer = ModelCheckpoint(filepath='saved_models/burglary_audio_classification.h5',\n",
        "                              verbose=1, save_best_only=True)\n",
        "early_stopping = EarlyStopping(monitor='val_loss', patience=10, verbose=1)\n",
        "\n",
        "print(\"Starting model training...\")\n",
        "start = datetime.now()\n",
        "\n",
        "# Train model\n",
        "history = model.fit(X_train, y_train,\n",
        "                   batch_size=num_batch_size,\n",
        "                   epochs=num_epochs,\n",
        "                   validation_data=(X_test, y_test),\n",
        "                   callbacks=[checkpointer, early_stopping],\n",
        "                   verbose=1)\n",
        "\n",
        "duration = datetime.now() - start\n",
        "print(f\"Training completed in time: {duration}\")\n",
        "# Plot training history\n",
        "plt.figure(figsize=(15, 5))\n",
        "\n",
        "# Plot loss\n",
        "plt.subplot(1, 2, 1)\n",
        "plt.plot(history.history['loss'])\n",
        "plt.plot(history.history['val_loss'])\n",
        "plt.title('Model Loss')\n",
        "plt.xlabel('Epoch')\n",
        "plt.ylabel('Loss')\n",
        "plt.legend(['train', 'validation'], loc='upper right')\n",
        "\n",
        "# Plot accuracy\n",
        "plt.subplot(1, 2, 2)\n",
        "plt.plot(history.history['accuracy'])\n",
        "plt.plot(history.history['val_accuracy'])\n",
        "plt.title('Model Accuracy')\n",
        "plt.xlabel('Epoch')\n",
        "plt.ylabel('Accuracy')\n",
        "plt.legend(['train', 'validation'], loc='lower right')\n",
        "\n",
        "plt.tight_layout()\n",
        "plt.show()\n"
      ],
      "metadata": {
        "colab": {
          "base_uri": "https://localhost:8080/",
          "height": 1000
        },
        "id": "CM_op5A4CR0T",
        "outputId": "9a6b5849-6bf1-4648-9758-8111d5fbfb09"
      },
      "execution_count": 26,
      "outputs": [
        {
          "output_type": "stream",
          "name": "stdout",
          "text": [
            "Starting model training...\n",
            "Epoch 1/100\n"
          ]
        },
        {
          "output_type": "stream",
          "name": "stderr",
          "text": [
            "/usr/local/lib/python3.11/dist-packages/keras/src/ops/nn.py:907: UserWarning: You are using a softmax over axis -1 of a tensor of shape (None, 1). This axis has size 1. The softmax operation will always return the value 1, which is likely not what you intended. Did you mean to use a sigmoid instead?\n",
            "  warnings.warn(\n",
            "/usr/local/lib/python3.11/dist-packages/keras/src/losses/losses.py:33: SyntaxWarning: In loss categorical_crossentropy, expected y_pred.shape to be (batch_size, num_classes) with num_classes > 1. Received: y_pred.shape=(None, 1). Consider using 'binary_crossentropy' if you only have 2 classes.\n",
            "  return self.fn(y_true, y_pred, **self._fn_kwargs)\n"
          ]
        },
        {
          "output_type": "stream",
          "name": "stdout",
          "text": [
            "\r\u001b[1m1/1\u001b[0m \u001b[32m━━━━━━━━━━━━━━━━━━━━\u001b[0m\u001b[37m\u001b[0m \u001b[1m0s\u001b[0m 4s/step - accuracy: 1.0000 - loss: 0.0000e+00\n",
            "Epoch 1: val_loss improved from inf to 0.00000, saving model to saved_models/burglary_audio_classification.h5\n"
          ]
        },
        {
          "output_type": "stream",
          "name": "stderr",
          "text": [
            "WARNING:absl:You are saving your model as an HDF5 file via `model.save()` or `keras.saving.save_model(model)`. This file format is considered legacy. We recommend using instead the native Keras format, e.g. `model.save('my_model.keras')` or `keras.saving.save_model(model, 'my_model.keras')`. \n"
          ]
        },
        {
          "output_type": "stream",
          "name": "stdout",
          "text": [
            "\b\b\b\b\b\b\b\b\b\b\b\b\b\b\b\b\b\b\b\b\b\b\b\b\b\b\b\b\b\b\b\b\b\b\b\b\b\b\b\b\b\b\b\b\b\b\b\b\b\b\b\b\b\b\b\b\b\b\b\b\b\b\b\b\b\b\b\b\b\b\b\b\b\r\u001b[1m1/1\u001b[0m \u001b[32m━━━━━━━━━━━━━━━━━━━━\u001b[0m\u001b[37m\u001b[0m \u001b[1m4s\u001b[0m 4s/step - accuracy: 1.0000 - loss: 0.0000e+00 - val_accuracy: 1.0000 - val_loss: 0.0000e+00\n",
            "Epoch 2/100\n",
            "\u001b[1m1/1\u001b[0m \u001b[32m━━━━━━━━━━━━━━━━━━━━\u001b[0m\u001b[37m\u001b[0m \u001b[1m0s\u001b[0m 45ms/step - accuracy: 1.0000 - loss: 0.0000e+00\n",
            "Epoch 2: val_loss did not improve from 0.00000\n",
            "\u001b[1m1/1\u001b[0m \u001b[32m━━━━━━━━━━━━━━━━━━━━\u001b[0m\u001b[37m\u001b[0m \u001b[1m0s\u001b[0m 110ms/step - accuracy: 1.0000 - loss: 0.0000e+00 - val_accuracy: 1.0000 - val_loss: 0.0000e+00\n",
            "Epoch 3/100\n",
            "\u001b[1m1/1\u001b[0m \u001b[32m━━━━━━━━━━━━━━━━━━━━\u001b[0m\u001b[37m\u001b[0m \u001b[1m0s\u001b[0m 42ms/step - accuracy: 1.0000 - loss: 0.0000e+00\n",
            "Epoch 3: val_loss did not improve from 0.00000\n",
            "\u001b[1m1/1\u001b[0m \u001b[32m━━━━━━━━━━━━━━━━━━━━\u001b[0m\u001b[37m\u001b[0m \u001b[1m0s\u001b[0m 104ms/step - accuracy: 1.0000 - loss: 0.0000e+00 - val_accuracy: 1.0000 - val_loss: 0.0000e+00\n",
            "Epoch 4/100\n",
            "\u001b[1m1/1\u001b[0m \u001b[32m━━━━━━━━━━━━━━━━━━━━\u001b[0m\u001b[37m\u001b[0m \u001b[1m0s\u001b[0m 43ms/step - accuracy: 1.0000 - loss: 0.0000e+00\n",
            "Epoch 4: val_loss did not improve from 0.00000\n",
            "\u001b[1m1/1\u001b[0m \u001b[32m━━━━━━━━━━━━━━━━━━━━\u001b[0m\u001b[37m\u001b[0m \u001b[1m0s\u001b[0m 108ms/step - accuracy: 1.0000 - loss: 0.0000e+00 - val_accuracy: 1.0000 - val_loss: 0.0000e+00\n",
            "Epoch 5/100\n",
            "\u001b[1m1/1\u001b[0m \u001b[32m━━━━━━━━━━━━━━━━━━━━\u001b[0m\u001b[37m\u001b[0m \u001b[1m0s\u001b[0m 73ms/step - accuracy: 1.0000 - loss: 0.0000e+00\n",
            "Epoch 5: val_loss did not improve from 0.00000\n",
            "\u001b[1m1/1\u001b[0m \u001b[32m━━━━━━━━━━━━━━━━━━━━\u001b[0m\u001b[37m\u001b[0m \u001b[1m0s\u001b[0m 137ms/step - accuracy: 1.0000 - loss: 0.0000e+00 - val_accuracy: 1.0000 - val_loss: 0.0000e+00\n",
            "Epoch 6/100\n",
            "\u001b[1m1/1\u001b[0m \u001b[32m━━━━━━━━━━━━━━━━━━━━\u001b[0m\u001b[37m\u001b[0m \u001b[1m0s\u001b[0m 71ms/step - accuracy: 1.0000 - loss: 0.0000e+00\n",
            "Epoch 6: val_loss did not improve from 0.00000\n",
            "\u001b[1m1/1\u001b[0m \u001b[32m━━━━━━━━━━━━━━━━━━━━\u001b[0m\u001b[37m\u001b[0m \u001b[1m0s\u001b[0m 146ms/step - accuracy: 1.0000 - loss: 0.0000e+00 - val_accuracy: 1.0000 - val_loss: 0.0000e+00\n",
            "Epoch 7/100\n",
            "\u001b[1m1/1\u001b[0m \u001b[32m━━━━━━━━━━━━━━━━━━━━\u001b[0m\u001b[37m\u001b[0m \u001b[1m0s\u001b[0m 68ms/step - accuracy: 1.0000 - loss: 0.0000e+00\n",
            "Epoch 7: val_loss did not improve from 0.00000\n",
            "\u001b[1m1/1\u001b[0m \u001b[32m━━━━━━━━━━━━━━━━━━━━\u001b[0m\u001b[37m\u001b[0m \u001b[1m0s\u001b[0m 131ms/step - accuracy: 1.0000 - loss: 0.0000e+00 - val_accuracy: 1.0000 - val_loss: 0.0000e+00\n",
            "Epoch 8/100\n",
            "\u001b[1m1/1\u001b[0m \u001b[32m━━━━━━━━━━━━━━━━━━━━\u001b[0m\u001b[37m\u001b[0m \u001b[1m0s\u001b[0m 40ms/step - accuracy: 1.0000 - loss: 0.0000e+00\n",
            "Epoch 8: val_loss did not improve from 0.00000\n",
            "\u001b[1m1/1\u001b[0m \u001b[32m━━━━━━━━━━━━━━━━━━━━\u001b[0m\u001b[37m\u001b[0m \u001b[1m0s\u001b[0m 114ms/step - accuracy: 1.0000 - loss: 0.0000e+00 - val_accuracy: 1.0000 - val_loss: 0.0000e+00\n",
            "Epoch 9/100\n",
            "\u001b[1m1/1\u001b[0m \u001b[32m━━━━━━━━━━━━━━━━━━━━\u001b[0m\u001b[37m\u001b[0m \u001b[1m0s\u001b[0m 37ms/step - accuracy: 1.0000 - loss: 0.0000e+00\n",
            "Epoch 9: val_loss did not improve from 0.00000\n",
            "\u001b[1m1/1\u001b[0m \u001b[32m━━━━━━━━━━━━━━━━━━━━\u001b[0m\u001b[37m\u001b[0m \u001b[1m0s\u001b[0m 106ms/step - accuracy: 1.0000 - loss: 0.0000e+00 - val_accuracy: 1.0000 - val_loss: 0.0000e+00\n",
            "Epoch 10/100\n",
            "\u001b[1m1/1\u001b[0m \u001b[32m━━━━━━━━━━━━━━━━━━━━\u001b[0m\u001b[37m\u001b[0m \u001b[1m0s\u001b[0m 71ms/step - accuracy: 1.0000 - loss: 0.0000e+00\n",
            "Epoch 10: val_loss did not improve from 0.00000\n",
            "\u001b[1m1/1\u001b[0m \u001b[32m━━━━━━━━━━━━━━━━━━━━\u001b[0m\u001b[37m\u001b[0m \u001b[1m0s\u001b[0m 134ms/step - accuracy: 1.0000 - loss: 0.0000e+00 - val_accuracy: 1.0000 - val_loss: 0.0000e+00\n",
            "Epoch 11/100\n",
            "\u001b[1m1/1\u001b[0m \u001b[32m━━━━━━━━━━━━━━━━━━━━\u001b[0m\u001b[37m\u001b[0m \u001b[1m0s\u001b[0m 38ms/step - accuracy: 1.0000 - loss: 0.0000e+00\n",
            "Epoch 11: val_loss did not improve from 0.00000\n",
            "\u001b[1m1/1\u001b[0m \u001b[32m━━━━━━━━━━━━━━━━━━━━\u001b[0m\u001b[37m\u001b[0m \u001b[1m0s\u001b[0m 101ms/step - accuracy: 1.0000 - loss: 0.0000e+00 - val_accuracy: 1.0000 - val_loss: 0.0000e+00\n",
            "Epoch 11: early stopping\n",
            "Training completed in time: 0:00:05.703919\n"
          ]
        },
        {
          "output_type": "display_data",
          "data": {
            "text/plain": [
              "<Figure size 1500x500 with 2 Axes>"
            ],
            "image/png": "[encoded data removed]"
          },
          "metadata": {}
        }
      ]
    },
    {
      "cell_type": "code",
      "source": [
        "# Model evaluation\n",
        "from sklearn.metrics import confusion_matrix, classification_report, roc_auc_score\n",
        "import seaborn as sns\n",
        "\n",
        "# Predictions\n",
        "y_pred_prob = model.predict(X_test)\n",
        "y_pred = np.argmax(y_pred_prob, axis=1)\n",
        "y_true = np.argmax(y_test, axis=1)\n",
        "\n",
        "# Confusion matrix\n",
        "cm = confusion_matrix(y_true, y_pred)\n",
        "\n",
        "# Classification report\n",
        "class_report = classification_report(y_true, y_pred, target_names=labelencoder.classes_)\n",
        "\n",
        "# Model performance\n",
        "loss, accuracy = model.evaluate(X_test, y_test, verbose=0)\n",
        "\n",
        "print(\"=== Model Performance ===\")\n",
        "print(f\"Test Accuracy: {accuracy:.4f}\")\n",
        "print(f\"Test Loss: {loss:.4f}\")\n",
        "print(\"\\\\nClassification Report:\")\n",
        "print(class_report)\n",
        "\n",
        "# Plot confusion matrix\n",
        "plt.figure(figsize=(10, 8))\n",
        "sns.heatmap(cm, annot=True, fmt='d', cmap='Blues',\n",
        "           xticklabels=labelencoder.classes_,\n",
        "           yticklabels=labelencoder.classes_)\n",
        "plt.title('Confusion Matrix')\n",
        "plt.xlabel('Predicted Label')\n",
        "plt.ylabel('True Label')\n",
        "plt.xticks(rotation=45)\n",
        "plt.yticks(rotation=0)\n",
        "plt.tight_layout()\n",
        "plt.show()\n",
        "\n",
        "# Prediction function for new MP3 files\n",
        "def predict_class_label_mp3(filename, model, labelencoder):\n",
        "    #\"\\\"\\\"Predict class label for a new MP3 file\\\"\\\"\\\"\n",
        "    try:\n",
        "        # Extract features\n",
        "        features = features_extractor_mp3(filename)\n",
        "        features = features.reshape(1, -1)\n",
        "\n",
        "        # Predict\n",
        "        predicted_prob = model.predict(features)\n",
        "        predicted_label = np.argmax(predicted_prob, axis=-1)\n",
        "        prediction_class = labelencoder.inverse_transform(predicted_label)\n",
        "        confidence = np.max(predicted_prob)\n",
        "\n",
        "        return prediction_class[0], confidence\n",
        "    except Exception as e:\n",
        "        print(f\"Error predicting for {filename}: {e}\")\n",
        "        return \"unknown\", 0.0"
      ],
      "metadata": {
        "colab": {
          "base_uri": "https://localhost:8080/",
          "height": 1000
        },
        "id": "ZJHLJiXoCflA",
        "outputId": "0a3a89ec-09b2-4841-b5bd-a4bb13c01db5"
      },
      "execution_count": 27,
      "outputs": [
        {
          "output_type": "stream",
          "name": "stdout",
          "text": [
            "\u001b[1m1/1\u001b[0m \u001b[32m━━━━━━━━━━━━━━━━━━━━\u001b[0m\u001b[37m\u001b[0m \u001b[1m0s\u001b[0m 91ms/step\n"
          ]
        },
        {
          "output_type": "stream",
          "name": "stderr",
          "text": [
            "/usr/local/lib/python3.11/dist-packages/keras/src/ops/nn.py:907: UserWarning: You are using a softmax over axis -1 of a tensor of shape (4, 1). This axis has size 1. The softmax operation will always return the value 1, which is likely not what you intended. Did you mean to use a sigmoid instead?\n",
            "  warnings.warn(\n",
            "/usr/local/lib/python3.11/dist-packages/sklearn/metrics/_classification.py:407: UserWarning: A single label was found in 'y_true' and 'y_pred'. For the confusion matrix to have the correct shape, use the 'labels' parameter to pass all known labels.\n",
            "  warnings.warn(\n"
          ]
        },
        {
          "output_type": "stream",
          "name": "stdout",
          "text": [
            "=== Model Performance ===\n",
            "Test Accuracy: 1.0000\n",
            "Test Loss: 0.0000\n",
            "\\nClassification Report:\n",
            "                precision    recall  f1-score   support\n",
            "\n",
            "burglary_voice       1.00      1.00      1.00         4\n",
            "\n",
            "      accuracy                           1.00         4\n",
            "     macro avg       1.00      1.00      1.00         4\n",
            "  weighted avg       1.00      1.00      1.00         4\n",
            "\n"
          ]
        },
        {
          "output_type": "display_data",
          "data": {
            "text/plain": [
              "<Figure size 1000x800 with 2 Axes>"
            ],
            "image/png": "[encoded data removed]"
          },
          "metadata": {}
        }
      ]
    },
    {
      "cell_type": "code",
      "source": [
        "print(\"\\\\n=== Testing Prediction Function ===\")\n",
        "if len(metadata_df) > 0:\n",
        "    # Test with a random file from the dataset\n",
        "    test_file = metadata_df.iloc[0]['filepath']\n",
        "    if os.path.exists(test_file):\n",
        "        predicted_class, confidence = predict_class_label_mp3(test_file, model, labelencoder)\n",
        "        actual_class = metadata_df.iloc[0]['class']\n",
        "        print(f\"Test file: {os.path.basename(test_file)}\")\n",
        "        print(f\"Actual class: {actual_class}\")\n",
        "        print(f\"Predicted class: {predicted_class}\")\n",
        "        print(f\"Confidence: {confidence:.4f}\")\n",
        "\n",
        "# Function to upload and test new MP3 files\n",
        "def test_new_audio_file():\n",
        "    #\"\\\"\\\"Upload and test a new MP3 file\\\"\\\"\\\"\n",
        "    print(\"Upload an MP3 file to test:\")\n",
        "    uploaded = files.upload()\n",
        "\n",
        "    for filename in uploaded.keys():\n",
        "        if filename.lower().endswith('.mp3'):\n",
        "            predicted_class, confidence = predict_class_label_mp3(filename, model, labelencoder)\n",
        "            print(f\"File: {filename}\")\n",
        "            print(f\"Predicted class: {predicted_class}\")\n",
        "            print(f\"Confidence: {confidence:.4f}\")\n",
        "\n",
        "            # Display audio waveform\n",
        "            try:\n",
        "                audio, sr = librosa.load(filename, sr=22050)\n",
        "                plt.figure(figsize=(12, 4))\n",
        "                librosa.display.waveshow(audio, sr=sr)\n",
        "                plt.title(f'Waveform - Predicted: {predicted_class} (Confidence: {confidence:.4f})')\n",
        "                plt.xlabel('Time (s)')\n",
        "                plt.ylabel('Amplitude')\n",
        "                plt.show()\n",
        "            except Exception as e:\n",
        "                print(f\"Could not display waveform: {e}\")\n",
        "        else:\n",
        "            print(f\"Skipping {filename} - not an MP3 file\")"
      ],
      "metadata": {
        "colab": {
          "base_uri": "https://localhost:8080/"
        },
        "id": "i6-u1QMMCnUO",
        "outputId": "1e689dc4-6d8f-4662-93f3-6948c3a930e4"
      },
      "execution_count": 29,
      "outputs": [
        {
          "output_type": "stream",
          "name": "stdout",
          "text": [
            "\\n=== Testing Prediction Function ===\n",
            "Error processing /content/burglary_voice/clip9.mp3: No module named 'resampy'\n",
            "\n",
            "This error is lazily reported, having originally occured in\n",
            "  File /usr/local/lib/python3.11/dist-packages/librosa/core/audio.py, line 33, in <module>\n",
            "\n",
            "----> resampy = lazy.load(\"resampy\")\n",
            "\u001b[1m1/1\u001b[0m \u001b[32m━━━━━━━━━━━━━━━━━━━━\u001b[0m\u001b[37m\u001b[0m \u001b[1m0s\u001b[0m 107ms/step\n",
            "Test file: clip9.mp3\n",
            "Actual class: burglary_voice\n",
            "Predicted class: burglary_voice\n",
            "Confidence: 1.0000\n"
          ]
        },
        {
          "output_type": "stream",
          "name": "stderr",
          "text": [
            "/usr/local/lib/python3.11/dist-packages/keras/src/ops/nn.py:907: UserWarning: You are using a softmax over axis -1 of a tensor of shape (None, 1). This axis has size 1. The softmax operation will always return the value 1, which is likely not what you intended. Did you mean to use a sigmoid instead?\n",
            "  warnings.warn(\n"
          ]
        }
      ]
    },
    {
      "cell_type": "code",
      "source": [],
      "metadata": {
        "id": "oa0LHdaaCo71"
      },
      "execution_count": null,
      "outputs": []
    }
  ]
}